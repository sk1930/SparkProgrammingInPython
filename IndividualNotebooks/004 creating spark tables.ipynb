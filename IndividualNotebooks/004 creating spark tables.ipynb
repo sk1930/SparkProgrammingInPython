{
 "cells": [
  {
   "cell_type": "code",
   "execution_count": 0,
   "metadata": {
    "application/vnd.databricks.v1+cell": {
     "cellMetadata": {
      "byteLimit": 2048000,
      "rowLimit": 10000
     },
     "inputWidgets": {},
     "nuid": "19f640ce-b16d-44b9-a4b2-0c78c55d0a6d",
     "showTitle": false,
     "title": ""
    }
   },
   "outputs": [
    {
     "output_type": "display_data",
     "data": {
      "text/html": [
       "<style scoped>\n",
       "  .ansiout {\n",
       "    display: block;\n",
       "    unicode-bidi: embed;\n",
       "    white-space: pre-wrap;\n",
       "    word-wrap: break-word;\n",
       "    word-break: break-all;\n",
       "    font-family: \"Menlo\", \"Monaco\", \"Consolas\", \"Ubuntu Mono\", \"Source Code Pro\", monospace;\n",
       "    font-size: 13px;\n",
       "    color: #555;\n",
       "    margin-left: 4px;\n",
       "    line-height: 19px;\n",
       "  }\n",
       "</style>\n",
       "<div class=\"ansiout\">res0: Boolean = true\n",
       "</div>"
      ]
     },
     "metadata": {
      "application/vnd.databricks.v1+output": {
       "addedWidgets": {},
       "arguments": {},
       "data": "<div class=\"ansiout\">res0: Boolean = true\n</div>",
       "datasetInfos": [],
       "metadata": {
        "isDbfsCommandResult": false
       },
       "removedWidgets": [],
       "type": "html"
      }
     },
     "output_type": "display_data"
    }
   ],
   "source": [
    "%fs \n",
    "rm -r /user/hive/warehouse/demo_db.db\n"
   ]
  },
  {
   "cell_type": "code",
   "execution_count": 0,
   "metadata": {
    "application/vnd.databricks.v1+cell": {
     "cellMetadata": {
      "byteLimit": 2048000,
      "rowLimit": 10000
     },
     "inputWidgets": {},
     "nuid": "50cb87a2-95c2-48ec-a4ae-1effd899d231",
     "showTitle": false,
     "title": ""
    }
   },
   "outputs": [
    {
     "output_type": "display_data",
     "data": {
      "text/html": [
       "<style scoped>\n",
       "  .table-result-container {\n",
       "    max-height: 300px;\n",
       "    overflow: auto;\n",
       "  }\n",
       "  table, th, td {\n",
       "    border: 1px solid black;\n",
       "    border-collapse: collapse;\n",
       "  }\n",
       "  th, td {\n",
       "    padding: 5px;\n",
       "  }\n",
       "  th {\n",
       "    text-align: left;\n",
       "  }\n",
       "</style><div class='table-result-container'><table class='table-result'><thead style='background-color: white'><tr></tr></thead><tbody></tbody></table></div>"
      ]
     },
     "metadata": {
      "application/vnd.databricks.v1+output": {
       "addedWidgets": {},
       "aggData": [],
       "aggError": "",
       "aggOverflow": false,
       "aggSchema": [],
       "aggSeriesLimitReached": false,
       "aggType": "",
       "arguments": {},
       "columnCustomDisplayInfos": {},
       "data": [],
       "datasetInfos": [],
       "dbfsResultPath": null,
       "isJsonSchema": true,
       "metadata": {
        "isDbfsCommandResult": false
       },
       "overflow": false,
       "plotOptions": {
        "customPlotOptions": {},
        "displayType": "table",
        "pivotAggregation": null,
        "pivotColumns": null,
        "xColumns": null,
        "yColumns": null
       },
       "removedWidgets": [],
       "schema": [],
       "type": "table"
      }
     },
     "output_type": "display_data"
    }
   ],
   "source": [
    "%sql\n",
    " drop table if exists demo_db.firecall_table;\n",
    " drop view if exists demo_db;"
   ]
  },
  {
   "cell_type": "markdown",
   "metadata": {
    "application/vnd.databricks.v1+cell": {
     "cellMetadata": {
      "byteLimit": 2048000,
      "rowLimit": 10000
     },
     "inputWidgets": {},
     "nuid": "eac74fce-3ac2-4ea0-a3e9-6c98689bf129",
     "showTitle": false,
     "title": ""
    }
   },
   "source": [
    "Click this Data menu item, and you will see two databases. Spark created one default database for you. So if you create a table, it will be created inside the default database. But we do not recommend using the default database. Instead, you should create a database for your project and keep all your project tables inside your database. Great! So we have already created one database for ourselves. Now come back to the notebook and create a table. The creating table also follows a create table DDL statement."
   ]
  },
  {
   "cell_type": "code",
   "execution_count": 0,
   "metadata": {
    "application/vnd.databricks.v1+cell": {
     "cellMetadata": {
      "byteLimit": 2048000,
      "rowLimit": 10000
     },
     "inputWidgets": {},
     "nuid": "c15f1190-561f-4ae6-b7e1-d70bc1eb72f4",
     "showTitle": false,
     "title": ""
    }
   },
   "outputs": [],
   "source": []
  },
  {
   "cell_type": "code",
   "execution_count": 0,
   "metadata": {
    "application/vnd.databricks.v1+cell": {
     "cellMetadata": {
      "byteLimit": 2048000,
      "rowLimit": 10000
     },
     "inputWidgets": {},
     "nuid": "5cbc75e7-db3a-49cf-9d3b-4dffb26e68bf",
     "showTitle": false,
     "title": ""
    }
   },
   "outputs": [],
   "source": []
  },
  {
   "cell_type": "code",
   "execution_count": 0,
   "metadata": {
    "application/vnd.databricks.v1+cell": {
     "cellMetadata": {
      "byteLimit": 2048000,
      "rowLimit": 10000
     },
     "inputWidgets": {},
     "nuid": "b7569d73-aa09-4230-8a50-809e2a3ef9a1",
     "showTitle": false,
     "title": ""
    }
   },
   "outputs": [
    {
     "output_type": "display_data",
     "data": {
      "text/html": [
       "<style scoped>\n",
       "  .table-result-container {\n",
       "    max-height: 300px;\n",
       "    overflow: auto;\n",
       "  }\n",
       "  table, th, td {\n",
       "    border: 1px solid black;\n",
       "    border-collapse: collapse;\n",
       "  }\n",
       "  th, td {\n",
       "    padding: 5px;\n",
       "  }\n",
       "  th {\n",
       "    text-align: left;\n",
       "  }\n",
       "</style><div class='table-result-container'><table class='table-result'><thead style='background-color: white'><tr></tr></thead><tbody></tbody></table></div>"
      ]
     },
     "metadata": {
      "application/vnd.databricks.v1+output": {
       "addedWidgets": {},
       "aggData": [],
       "aggError": "",
       "aggOverflow": false,
       "aggSchema": [],
       "aggSeriesLimitReached": false,
       "aggType": "",
       "arguments": {},
       "columnCustomDisplayInfos": {},
       "data": [],
       "datasetInfos": [],
       "dbfsResultPath": null,
       "isJsonSchema": true,
       "metadata": {
        "isDbfsCommandResult": false
       },
       "overflow": false,
       "plotOptions": {
        "customPlotOptions": {},
        "displayType": "table",
        "pivotAggregation": null,
        "pivotColumns": null,
        "xColumns": null,
        "yColumns": null
       },
       "removedWidgets": [],
       "schema": [],
       "type": "table"
      }
     },
     "output_type": "display_data"
    }
   ],
   "source": [
    "%sql\n",
    "create database if not exists demo_db"
   ]
  },
  {
   "cell_type": "code",
   "execution_count": 0,
   "metadata": {
    "application/vnd.databricks.v1+cell": {
     "cellMetadata": {
      "byteLimit": 2048000,
      "rowLimit": 10000
     },
     "inputWidgets": {},
     "nuid": "7fa475e1-ccac-4134-9736-7af596153b18",
     "showTitle": false,
     "title": ""
    }
   },
   "outputs": [
    {
     "output_type": "display_data",
     "data": {
      "text/html": [
       "<style scoped>\n",
       "  .table-result-container {\n",
       "    max-height: 300px;\n",
       "    overflow: auto;\n",
       "  }\n",
       "  table, th, td {\n",
       "    border: 1px solid black;\n",
       "    border-collapse: collapse;\n",
       "  }\n",
       "  th, td {\n",
       "    padding: 5px;\n",
       "  }\n",
       "  th {\n",
       "    text-align: left;\n",
       "  }\n",
       "</style><div class='table-result-container'><table class='table-result'><thead style='background-color: white'><tr></tr></thead><tbody></tbody></table></div>"
      ]
     },
     "metadata": {
      "application/vnd.databricks.v1+output": {
       "addedWidgets": {},
       "aggData": [],
       "aggError": "",
       "aggOverflow": false,
       "aggSchema": [],
       "aggSeriesLimitReached": false,
       "aggType": "",
       "arguments": {},
       "columnCustomDisplayInfos": {},
       "data": [],
       "datasetInfos": [],
       "dbfsResultPath": null,
       "isJsonSchema": true,
       "metadata": {
        "isDbfsCommandResult": false
       },
       "overflow": false,
       "plotOptions": {
        "customPlotOptions": {},
        "displayType": "table",
        "pivotAggregation": null,
        "pivotColumns": null,
        "xColumns": null,
        "yColumns": null
       },
       "removedWidgets": [],
       "schema": [],
       "type": "table"
      }
     },
     "output_type": "display_data"
    }
   ],
   "source": [
    "%sql\n",
    "create table demo_db.firecall_table(CallNumber integer,\n",
    "                    UnitID  string,\n",
    "                    IncidentNumber  integer,\n",
    "                    CallType  string,                \n",
    "                    CallDate  string,     \n",
    "                    WatchDate  string,\n",
    "                    CallFinalDisposition  string,\n",
    "                    AvailableDtTm  string,\n",
    "                    Address  string,       \n",
    "                    City  string,      \n",
    "                    Zipcode  integer,    \n",
    "                    Battalion  string,                 \n",
    "                    StationArea  string,     \n",
    "                    Box  string,        \n",
    "                    OriginalPriority string,\n",
    "                    Priority  string,        \n",
    "                    FinalPriority  integer,       \n",
    "                    ALSUnit  boolean,    \n",
    "                    CallTypeGroup  string,\n",
    "                    NumAlarms  integer,\n",
    "                    UnitType  string,\n",
    "                    UnitSequenceInCallDispatch  integer,\n",
    "                    FirePreventionDistrict  string,\n",
    "                    SupervisorDistrict  string,\n",
    "                    Neighborhood  string,\n",
    "                    Location  string,\n",
    "                    RowID  string,\n",
    "                    Delay  float) using parquet"
   ]
  },
  {
   "cell_type": "markdown",
   "metadata": {
    "application/vnd.databricks.v1+cell": {
     "cellMetadata": {
      "byteLimit": 2048000,
      "rowLimit": 10000
     },
     "inputWidgets": {},
     "nuid": "50d61a16-075c-4ed9-af94-bfea8d05481f",
     "showTitle": false,
     "title": ""
    }
   },
   "source": [
    "if - if not exists is not used then we get table already exists exception if table is empty\n",
    "\n",
    "Error in SQL statement: TableAlreadyExistsException: [TABLE_OR_VIEW_ALREADY_EXISTS] Cannot create table or view `spark_catalog`.`demo_db`.`firecall_table` because it already exists.\n",
    "Choose a different name, drop or replace the existing object, add the IF NOT EXISTS clause to tolerate pre-existing objects, or add the OR REFRESH clause to refresh the existing streaming table.\n",
    "\n",
    "if table is not empty then even if if not exists is used we are getting an error like \n",
    "Error in SQL statement: SparkRuntimeException: [LOCATION_ALREADY_EXISTS] Cannot name the managed table as `spark_catalog`.`demo_db`.`firecall_table`, as its associated location 'dbfs:/user/hive/warehouse/demo_db.db/firecall_table' already exists. Please pick a different table name, or remove the existing location first.\n",
    "\n",
    "\n",
    "the reason is on terminating the cluster meta data layer is gone but if data is present in the table it is  present in the storage layer which is not deleted on terminating the cluster."
   ]
  },
  {
   "cell_type": "code",
   "execution_count": 0,
   "metadata": {
    "application/vnd.databricks.v1+cell": {
     "cellMetadata": {
      "byteLimit": 2048000,
      "rowLimit": 10000
     },
     "inputWidgets": {},
     "nuid": "92b3bc90-bfc4-4b9e-a738-00c2bda8fa4f",
     "showTitle": false,
     "title": ""
    }
   },
   "outputs": [
    {
     "output_type": "display_data",
     "data": {
      "text/html": [
       "<style scoped>\n",
       "  .table-result-container {\n",
       "    max-height: 300px;\n",
       "    overflow: auto;\n",
       "  }\n",
       "  table, th, td {\n",
       "    border: 1px solid black;\n",
       "    border-collapse: collapse;\n",
       "  }\n",
       "  th, td {\n",
       "    padding: 5px;\n",
       "  }\n",
       "  th {\n",
       "    text-align: left;\n",
       "  }\n",
       "</style><div class='table-result-container'><table class='table-result'><thead style='background-color: white'><tr></tr></thead><tbody></tbody></table></div>"
      ]
     },
     "metadata": {
      "application/vnd.databricks.v1+output": {
       "addedWidgets": {},
       "aggData": [],
       "aggError": "",
       "aggOverflow": false,
       "aggSchema": [],
       "aggSeriesLimitReached": false,
       "aggType": "",
       "arguments": {},
       "columnCustomDisplayInfos": {},
       "data": [],
       "datasetInfos": [],
       "dbfsResultPath": null,
       "isJsonSchema": true,
       "metadata": {
        "isDbfsCommandResult": false
       },
       "overflow": false,
       "plotOptions": {
        "customPlotOptions": {},
        "displayType": "table",
        "pivotAggregation": null,
        "pivotColumns": null,
        "xColumns": null,
        "yColumns": null
       },
       "removedWidgets": [],
       "schema": [],
       "type": "table"
      }
     },
     "output_type": "display_data"
    }
   ],
   "source": [
    "%sql\n",
    "create table if not exists demo_db.firecall_table(CallNumber integer,\n",
    "                    UnitID  string,\n",
    "                    IncidentNumber  integer,\n",
    "                    CallType  string,                \n",
    "                    CallDate  string,     \n",
    "                    WatchDate  string,\n",
    "                    CallFinalDisposition  string,\n",
    "                    AvailableDtTm  string,\n",
    "                    Address  string,       \n",
    "                    City  string,      \n",
    "                    Zipcode  integer,    \n",
    "                    Battalion  string,                 \n",
    "                    StationArea  string,     \n",
    "                    Box  string,        \n",
    "                    OriginalPriority string,\n",
    "                    Priority  string,        \n",
    "                    FinalPriority  integer,       \n",
    "                    ALSUnit  boolean,    \n",
    "                    CallTypeGroup  string,\n",
    "                    NumAlarms  integer,\n",
    "                    UnitType  string,\n",
    "                    UnitSequenceInCallDispatch  integer,\n",
    "                    FirePreventionDistrict  string,\n",
    "                    SupervisorDistrict  string,\n",
    "                    Neighborhood  string,\n",
    "                    Location  string,\n",
    "                    RowID  string,\n",
    "                    Delay  float) using parquet"
   ]
  },
  {
   "cell_type": "markdown",
   "metadata": {
    "application/vnd.databricks.v1+cell": {
     "cellMetadata": {
      "byteLimit": 2048000,
      "rowLimit": 10000
     },
     "inputWidgets": {},
     "nuid": "48df5190-5b0a-4abc-bcbb-8e7f19b99b53",
     "showTitle": false,
     "title": ""
    }
   },
   "source": [
    "we will specify the file format for the table. So I will be using parquet for the table. What does it mean? Simple! Every database table internally stores data in files. We already learned that in an earlier video. Right? So for this table, I want Spark to use parquet file format."
   ]
  },
  {
   "cell_type": "code",
   "execution_count": 0,
   "metadata": {
    "application/vnd.databricks.v1+cell": {
     "cellMetadata": {
      "byteLimit": 2048000,
      "rowLimit": 10000
     },
     "inputWidgets": {},
     "nuid": "2c54c2ac-fe0d-41c5-8eed-ccd5ddd2b616",
     "showTitle": false,
     "title": ""
    }
   },
   "outputs": [
    {
     "output_type": "display_data",
     "data": {
      "text/html": [
       "<style scoped>\n",
       "  .table-result-container {\n",
       "    max-height: 300px;\n",
       "    overflow: auto;\n",
       "  }\n",
       "  table, th, td {\n",
       "    border: 1px solid black;\n",
       "    border-collapse: collapse;\n",
       "  }\n",
       "  th, td {\n",
       "    padding: 5px;\n",
       "  }\n",
       "  th {\n",
       "    text-align: left;\n",
       "  }\n",
       "</style><div class='table-result-container'><table class='table-result'><thead style='background-color: white'><tr></tr></thead><tbody></tbody></table></div>"
      ]
     },
     "metadata": {
      "application/vnd.databricks.v1+output": {
       "addedWidgets": {},
       "aggData": [],
       "aggError": "",
       "aggOverflow": false,
       "aggSchema": [],
       "aggSeriesLimitReached": false,
       "aggType": "",
       "arguments": {},
       "columnCustomDisplayInfos": {},
       "data": [],
       "datasetInfos": [],
       "dbfsResultPath": null,
       "isJsonSchema": true,
       "metadata": {
        "isDbfsCommandResult": false
       },
       "overflow": false,
       "plotOptions": {
        "customPlotOptions": {},
        "displayType": "table",
        "pivotAggregation": null,
        "pivotColumns": null,
        "xColumns": null,
        "yColumns": null
       },
       "removedWidgets": [],
       "schema": [],
       "type": "table"
      }
     },
     "output_type": "display_data"
    }
   ],
   "source": [
    "%sql\n",
    "insert into demo_db.firecall_table(CallNumber) values (123);"
   ]
  },
  {
   "cell_type": "code",
   "execution_count": 0,
   "metadata": {
    "application/vnd.databricks.v1+cell": {
     "cellMetadata": {
      "byteLimit": 2048000,
      "rowLimit": 10000
     },
     "inputWidgets": {},
     "nuid": "3ee8af61-4ca6-4899-9c0f-6ca0ec7545b7",
     "showTitle": false,
     "title": ""
    }
   },
   "outputs": [
    {
     "output_type": "display_data",
     "data": {
      "text/html": [
       "<style scoped>\n",
       "  .table-result-container {\n",
       "    max-height: 300px;\n",
       "    overflow: auto;\n",
       "  }\n",
       "  table, th, td {\n",
       "    border: 1px solid black;\n",
       "    border-collapse: collapse;\n",
       "  }\n",
       "  th, td {\n",
       "    padding: 5px;\n",
       "  }\n",
       "  th {\n",
       "    text-align: left;\n",
       "  }\n",
       "</style><div class='table-result-container'><table class='table-result'><thead style='background-color: white'><tr><th>col_name</th><th>data_type</th><th>comment</th></tr></thead><tbody><tr><td>CallNumber</td><td>int</td><td>null</td></tr><tr><td>UnitID</td><td>string</td><td>null</td></tr><tr><td>IncidentNumber</td><td>int</td><td>null</td></tr><tr><td>CallType</td><td>string</td><td>null</td></tr><tr><td>CallDate</td><td>string</td><td>null</td></tr><tr><td>WatchDate</td><td>string</td><td>null</td></tr><tr><td>CallFinalDisposition</td><td>string</td><td>null</td></tr><tr><td>AvailableDtTm</td><td>string</td><td>null</td></tr><tr><td>Address</td><td>string</td><td>null</td></tr><tr><td>City</td><td>string</td><td>null</td></tr><tr><td>Zipcode</td><td>int</td><td>null</td></tr><tr><td>Battalion</td><td>string</td><td>null</td></tr><tr><td>StationArea</td><td>string</td><td>null</td></tr><tr><td>Box</td><td>string</td><td>null</td></tr><tr><td>OriginalPriority</td><td>string</td><td>null</td></tr><tr><td>Priority</td><td>string</td><td>null</td></tr><tr><td>FinalPriority</td><td>int</td><td>null</td></tr><tr><td>ALSUnit</td><td>boolean</td><td>null</td></tr><tr><td>CallTypeGroup</td><td>string</td><td>null</td></tr><tr><td>NumAlarms</td><td>int</td><td>null</td></tr><tr><td>UnitType</td><td>string</td><td>null</td></tr><tr><td>UnitSequenceInCallDispatch</td><td>int</td><td>null</td></tr><tr><td>FirePreventionDistrict</td><td>string</td><td>null</td></tr><tr><td>SupervisorDistrict</td><td>string</td><td>null</td></tr><tr><td>Neighborhood</td><td>string</td><td>null</td></tr><tr><td>Location</td><td>string</td><td>null</td></tr><tr><td>RowID</td><td>string</td><td>null</td></tr><tr><td>Delay</td><td>float</td><td>null</td></tr></tbody></table></div>"
      ]
     },
     "metadata": {
      "application/vnd.databricks.v1+output": {
       "addedWidgets": {},
       "aggData": [],
       "aggError": "",
       "aggOverflow": false,
       "aggSchema": [],
       "aggSeriesLimitReached": false,
       "aggType": "",
       "arguments": {},
       "columnCustomDisplayInfos": {},
       "data": [
        [
         "CallNumber",
         "int",
         null
        ],
        [
         "UnitID",
         "string",
         null
        ],
        [
         "IncidentNumber",
         "int",
         null
        ],
        [
         "CallType",
         "string",
         null
        ],
        [
         "CallDate",
         "string",
         null
        ],
        [
         "WatchDate",
         "string",
         null
        ],
        [
         "CallFinalDisposition",
         "string",
         null
        ],
        [
         "AvailableDtTm",
         "string",
         null
        ],
        [
         "Address",
         "string",
         null
        ],
        [
         "City",
         "string",
         null
        ],
        [
         "Zipcode",
         "int",
         null
        ],
        [
         "Battalion",
         "string",
         null
        ],
        [
         "StationArea",
         "string",
         null
        ],
        [
         "Box",
         "string",
         null
        ],
        [
         "OriginalPriority",
         "string",
         null
        ],
        [
         "Priority",
         "string",
         null
        ],
        [
         "FinalPriority",
         "int",
         null
        ],
        [
         "ALSUnit",
         "boolean",
         null
        ],
        [
         "CallTypeGroup",
         "string",
         null
        ],
        [
         "NumAlarms",
         "int",
         null
        ],
        [
         "UnitType",
         "string",
         null
        ],
        [
         "UnitSequenceInCallDispatch",
         "int",
         null
        ],
        [
         "FirePreventionDistrict",
         "string",
         null
        ],
        [
         "SupervisorDistrict",
         "string",
         null
        ],
        [
         "Neighborhood",
         "string",
         null
        ],
        [
         "Location",
         "string",
         null
        ],
        [
         "RowID",
         "string",
         null
        ],
        [
         "Delay",
         "float",
         null
        ]
       ],
       "datasetInfos": [],
       "dbfsResultPath": null,
       "isJsonSchema": true,
       "metadata": {
        "isDbfsCommandResult": false
       },
       "overflow": false,
       "plotOptions": {
        "customPlotOptions": {},
        "displayType": "table",
        "pivotAggregation": null,
        "pivotColumns": null,
        "xColumns": null,
        "yColumns": null
       },
       "removedWidgets": [],
       "schema": [
        {
         "metadata": "{\"comment\":\"name of the column\"}",
         "name": "col_name",
         "type": "\"string\""
        },
        {
         "metadata": "{\"comment\":\"data type of the column\"}",
         "name": "data_type",
         "type": "\"string\""
        },
        {
         "metadata": "{\"comment\":\"comment of the column\"}",
         "name": "comment",
         "type": "\"string\""
        }
       ],
       "type": "table"
      }
     },
     "output_type": "display_data"
    }
   ],
   "source": [
    "%sql\n",
    "desc demo_db.firecall_table"
   ]
  },
  {
   "cell_type": "markdown",
   "metadata": {
    "application/vnd.databricks.v1+cell": {
     "cellMetadata": {
      "byteLimit": 2048000,
      "rowLimit": 10000
     },
     "inputWidgets": {},
     "nuid": "c2b33a76-fb3b-46c3-97b2-ea12c1b0c4e9",
     "showTitle": false,
     "title": ""
    }
   },
   "source": [
    "it has 28 columns"
   ]
  },
  {
   "cell_type": "code",
   "execution_count": 0,
   "metadata": {
    "application/vnd.databricks.v1+cell": {
     "cellMetadata": {
      "byteLimit": 2048000,
      "rowLimit": 10000
     },
     "inputWidgets": {},
     "nuid": "23610580-479c-42d7-bfda-6a2933efe8c0",
     "showTitle": false,
     "title": ""
    }
   },
   "outputs": [
    {
     "output_type": "stream",
     "name": "stdout",
     "output_type": "stream",
     "text": [
      "['null', 'null', 'null', 'null', 'null', 'null', 'null', 'null', 'null', 'null', 'null', 'null', 'null', 'null', 'null', 'null', 'null', 'null', 'null', 'null', 'null', 'null', 'null', 'null', 'null', 'null', 'null']\n"
     ]
    }
   ],
   "source": [
    "%python\n",
    "null = 'null'\n",
    "print([null]*27)"
   ]
  },
  {
   "cell_type": "code",
   "execution_count": 0,
   "metadata": {
    "application/vnd.databricks.v1+cell": {
     "cellMetadata": {
      "byteLimit": 2048000,
      "rowLimit": 10000
     },
     "inputWidgets": {},
     "nuid": "a3a5553a-8301-40a6-b1ec-41f43b6491f2",
     "showTitle": false,
     "title": ""
    }
   },
   "outputs": [
    {
     "output_type": "display_data",
     "data": {
      "text/html": [
       "<style scoped>\n",
       "  .table-result-container {\n",
       "    max-height: 300px;\n",
       "    overflow: auto;\n",
       "  }\n",
       "  table, th, td {\n",
       "    border: 1px solid black;\n",
       "    border-collapse: collapse;\n",
       "  }\n",
       "  th, td {\n",
       "    padding: 5px;\n",
       "  }\n",
       "  th {\n",
       "    text-align: left;\n",
       "  }\n",
       "</style><div class='table-result-container'><table class='table-result'><thead style='background-color: white'><tr></tr></thead><tbody></tbody></table></div>"
      ]
     },
     "metadata": {
      "application/vnd.databricks.v1+output": {
       "addedWidgets": {},
       "aggData": [],
       "aggError": "",
       "aggOverflow": false,
       "aggSchema": [],
       "aggSeriesLimitReached": false,
       "aggType": "",
       "arguments": {},
       "columnCustomDisplayInfos": {},
       "data": [],
       "datasetInfos": [],
       "dbfsResultPath": null,
       "isJsonSchema": true,
       "metadata": {
        "isDbfsCommandResult": false
       },
       "overflow": false,
       "plotOptions": {
        "customPlotOptions": {},
        "displayType": "table",
        "pivotAggregation": null,
        "pivotColumns": null,
        "xColumns": null,
        "yColumns": null
       },
       "removedWidgets": [],
       "schema": [],
       "type": "table"
      }
     },
     "output_type": "display_data"
    }
   ],
   "source": [
    "%sql\n",
    "insert into demo_db.firecall_table(CallNumber) values(1234)"
   ]
  },
  {
   "cell_type": "code",
   "execution_count": 0,
   "metadata": {
    "application/vnd.databricks.v1+cell": {
     "cellMetadata": {
      "byteLimit": 2048000,
      "rowLimit": 10000
     },
     "inputWidgets": {},
     "nuid": "c46ae3d9-0911-4168-ad67-a1dea0a071b7",
     "showTitle": false,
     "title": ""
    }
   },
   "outputs": [
    {
     "output_type": "display_data",
     "data": {
      "text/html": [
       "<style scoped>\n",
       "  .table-result-container {\n",
       "    max-height: 300px;\n",
       "    overflow: auto;\n",
       "  }\n",
       "  table, th, td {\n",
       "    border: 1px solid black;\n",
       "    border-collapse: collapse;\n",
       "  }\n",
       "  th, td {\n",
       "    padding: 5px;\n",
       "  }\n",
       "  th {\n",
       "    text-align: left;\n",
       "  }\n",
       "</style><div class='table-result-container'><table class='table-result'><thead style='background-color: white'><tr><th>CallNumber</th><th>UnitID</th><th>IncidentNumber</th><th>CallType</th><th>CallDate</th><th>WatchDate</th><th>CallFinalDisposition</th><th>AvailableDtTm</th><th>Address</th><th>City</th><th>Zipcode</th><th>Battalion</th><th>StationArea</th><th>Box</th><th>OriginalPriority</th><th>Priority</th><th>FinalPriority</th><th>ALSUnit</th><th>CallTypeGroup</th><th>NumAlarms</th><th>UnitType</th><th>UnitSequenceInCallDispatch</th><th>FirePreventionDistrict</th><th>SupervisorDistrict</th><th>Neighborhood</th><th>Location</th><th>RowID</th><th>Delay</th></tr></thead><tbody><tr><td>123</td><td>null</td><td>null</td><td>null</td><td>null</td><td>null</td><td>null</td><td>null</td><td>null</td><td>null</td><td>null</td><td>null</td><td>null</td><td>null</td><td>null</td><td>null</td><td>null</td><td>null</td><td>null</td><td>null</td><td>null</td><td>null</td><td>null</td><td>null</td><td>null</td><td>null</td><td>null</td><td>null</td></tr><tr><td>1234</td><td>null</td><td>null</td><td>null</td><td>null</td><td>null</td><td>null</td><td>null</td><td>null</td><td>null</td><td>null</td><td>null</td><td>null</td><td>null</td><td>null</td><td>null</td><td>null</td><td>null</td><td>null</td><td>null</td><td>null</td><td>null</td><td>null</td><td>null</td><td>null</td><td>null</td><td>null</td><td>null</td></tr></tbody></table></div>"
      ]
     },
     "metadata": {
      "application/vnd.databricks.v1+output": {
       "addedWidgets": {},
       "aggData": [],
       "aggError": "",
       "aggOverflow": false,
       "aggSchema": [],
       "aggSeriesLimitReached": false,
       "aggType": "",
       "arguments": {},
       "columnCustomDisplayInfos": {},
       "data": [
        [
         123,
         null,
         null,
         null,
         null,
         null,
         null,
         null,
         null,
         null,
         null,
         null,
         null,
         null,
         null,
         null,
         null,
         null,
         null,
         null,
         null,
         null,
         null,
         null,
         null,
         null,
         null,
         null
        ],
        [
         1234,
         null,
         null,
         null,
         null,
         null,
         null,
         null,
         null,
         null,
         null,
         null,
         null,
         null,
         null,
         null,
         null,
         null,
         null,
         null,
         null,
         null,
         null,
         null,
         null,
         null,
         null,
         null
        ]
       ],
       "datasetInfos": [],
       "dbfsResultPath": null,
       "isJsonSchema": true,
       "metadata": {
        "isDbfsCommandResult": false
       },
       "overflow": false,
       "plotOptions": {
        "customPlotOptions": {},
        "displayType": "table",
        "pivotAggregation": null,
        "pivotColumns": null,
        "xColumns": null,
        "yColumns": null
       },
       "removedWidgets": [],
       "schema": [
        {
         "metadata": "{}",
         "name": "CallNumber",
         "type": "\"integer\""
        },
        {
         "metadata": "{}",
         "name": "UnitID",
         "type": "\"string\""
        },
        {
         "metadata": "{}",
         "name": "IncidentNumber",
         "type": "\"integer\""
        },
        {
         "metadata": "{}",
         "name": "CallType",
         "type": "\"string\""
        },
        {
         "metadata": "{}",
         "name": "CallDate",
         "type": "\"string\""
        },
        {
         "metadata": "{}",
         "name": "WatchDate",
         "type": "\"string\""
        },
        {
         "metadata": "{}",
         "name": "CallFinalDisposition",
         "type": "\"string\""
        },
        {
         "metadata": "{}",
         "name": "AvailableDtTm",
         "type": "\"string\""
        },
        {
         "metadata": "{}",
         "name": "Address",
         "type": "\"string\""
        },
        {
         "metadata": "{}",
         "name": "City",
         "type": "\"string\""
        },
        {
         "metadata": "{}",
         "name": "Zipcode",
         "type": "\"integer\""
        },
        {
         "metadata": "{}",
         "name": "Battalion",
         "type": "\"string\""
        },
        {
         "metadata": "{}",
         "name": "StationArea",
         "type": "\"string\""
        },
        {
         "metadata": "{}",
         "name": "Box",
         "type": "\"string\""
        },
        {
         "metadata": "{}",
         "name": "OriginalPriority",
         "type": "\"string\""
        },
        {
         "metadata": "{}",
         "name": "Priority",
         "type": "\"string\""
        },
        {
         "metadata": "{}",
         "name": "FinalPriority",
         "type": "\"integer\""
        },
        {
         "metadata": "{}",
         "name": "ALSUnit",
         "type": "\"boolean\""
        },
        {
         "metadata": "{}",
         "name": "CallTypeGroup",
         "type": "\"string\""
        },
        {
         "metadata": "{}",
         "name": "NumAlarms",
         "type": "\"integer\""
        },
        {
         "metadata": "{}",
         "name": "UnitType",
         "type": "\"string\""
        },
        {
         "metadata": "{}",
         "name": "UnitSequenceInCallDispatch",
         "type": "\"integer\""
        },
        {
         "metadata": "{}",
         "name": "FirePreventionDistrict",
         "type": "\"string\""
        },
        {
         "metadata": "{}",
         "name": "SupervisorDistrict",
         "type": "\"string\""
        },
        {
         "metadata": "{}",
         "name": "Neighborhood",
         "type": "\"string\""
        },
        {
         "metadata": "{}",
         "name": "Location",
         "type": "\"string\""
        },
        {
         "metadata": "{}",
         "name": "RowID",
         "type": "\"string\""
        },
        {
         "metadata": "{}",
         "name": "Delay",
         "type": "\"float\""
        }
       ],
       "type": "table"
      }
     },
     "output_type": "display_data"
    }
   ],
   "source": [
    "%sql\n",
    "select * from demo_db.firecall_table"
   ]
  },
  {
   "cell_type": "markdown",
   "metadata": {
    "application/vnd.databricks.v1+cell": {
     "cellMetadata": {
      "byteLimit": 2048000,
      "rowLimit": 10000
     },
     "inputWidgets": {},
     "nuid": "f8985e4e-976e-4829-b14e-b83fe9a11128",
     "showTitle": false,
     "title": ""
    }
   },
   "source": [
    "The first thing is to truncate the table, so we clean the garbage record that we just inserted. Why truncate? Why not delete? Because Spark SQL doesn't offer to delete statements. You cannot delete data from a Spark Table using Spark SQL. \n",
    "Databricks does offer a delete expression on Spark tables. But we are learning Spark now, and I will cover Databricks specific features in Databricks Module. For now, let's restrict ourselves to Open Source Apache Spark features. Great! So I am truncating the table because we do not have delete capability in Apache Spark. \n",
    "Now let me insert data into the table. Here is the code. So I am inserting records into the demo_db.fire_service_calls_tbl from global_temp.fire_service_calls_view. We created this global temporary table in the previous lecture. Right? Great! So we learned one method to load data into Spark Table."
   ]
  },
  {
   "cell_type": "code",
   "execution_count": 0,
   "metadata": {
    "application/vnd.databricks.v1+cell": {
     "cellMetadata": {
      "byteLimit": 2048000,
      "rowLimit": 10000
     },
     "inputWidgets": {},
     "nuid": "c710345b-3f2d-4764-a23c-fb84a83a4744",
     "showTitle": false,
     "title": ""
    }
   },
   "outputs": [
    {
     "output_type": "display_data",
     "data": {
      "text/html": [
       "<style scoped>\n",
       "  .table-result-container {\n",
       "    max-height: 300px;\n",
       "    overflow: auto;\n",
       "  }\n",
       "  table, th, td {\n",
       "    border: 1px solid black;\n",
       "    border-collapse: collapse;\n",
       "  }\n",
       "  th, td {\n",
       "    padding: 5px;\n",
       "  }\n",
       "  th {\n",
       "    text-align: left;\n",
       "  }\n",
       "</style><div class='table-result-container'><table class='table-result'><thead style='background-color: white'><tr></tr></thead><tbody></tbody></table></div>"
      ]
     },
     "metadata": {
      "application/vnd.databricks.v1+output": {
       "addedWidgets": {},
       "aggData": [],
       "aggError": "",
       "aggOverflow": false,
       "aggSchema": [],
       "aggSeriesLimitReached": false,
       "aggType": "",
       "arguments": {},
       "columnCustomDisplayInfos": {},
       "data": [],
       "datasetInfos": [],
       "dbfsResultPath": null,
       "isJsonSchema": true,
       "metadata": {
        "isDbfsCommandResult": false
       },
       "overflow": false,
       "plotOptions": {
        "customPlotOptions": {},
        "displayType": "table",
        "pivotAggregation": null,
        "pivotColumns": null,
        "xColumns": null,
        "yColumns": null
       },
       "removedWidgets": [],
       "schema": [],
       "type": "table"
      }
     },
     "output_type": "display_data"
    }
   ],
   "source": [
    "%sql\n",
    "truncate table demo_db.firecall_table"
   ]
  },
  {
   "cell_type": "code",
   "execution_count": 0,
   "metadata": {
    "application/vnd.databricks.v1+cell": {
     "cellMetadata": {
      "byteLimit": 2048000,
      "rowLimit": 10000
     },
     "inputWidgets": {},
     "nuid": "36c70868-04ef-425a-85eb-a162c0338efc",
     "showTitle": false,
     "title": ""
    }
   },
   "outputs": [
    {
     "output_type": "display_data",
     "data": {
      "text/html": [
       "<style scoped>\n",
       "  .table-result-container {\n",
       "    max-height: 300px;\n",
       "    overflow: auto;\n",
       "  }\n",
       "  table, th, td {\n",
       "    border: 1px solid black;\n",
       "    border-collapse: collapse;\n",
       "  }\n",
       "  th, td {\n",
       "    padding: 5px;\n",
       "  }\n",
       "  th {\n",
       "    text-align: left;\n",
       "  }\n",
       "</style><div class='table-result-container'><table class='table-result'><thead style='background-color: white'><tr></tr></thead><tbody></tbody></table></div>"
      ]
     },
     "metadata": {
      "application/vnd.databricks.v1+output": {
       "addedWidgets": {},
       "aggData": [],
       "aggError": "",
       "aggOverflow": false,
       "aggSchema": [],
       "aggSeriesLimitReached": false,
       "aggType": "",
       "arguments": {},
       "columnCustomDisplayInfos": {},
       "data": [],
       "datasetInfos": [],
       "dbfsResultPath": null,
       "isJsonSchema": true,
       "metadata": {
        "isDbfsCommandResult": false
       },
       "overflow": false,
       "plotOptions": {
        "customPlotOptions": {},
        "displayType": "table",
        "pivotAggregation": null,
        "pivotColumns": null,
        "xColumns": null,
        "yColumns": null
       },
       "removedWidgets": [],
       "schema": [],
       "type": "table"
      }
     },
     "output_type": "display_data"
    }
   ],
   "source": [
    "%sql\n",
    "insert into demo_db.firecall_table select * from global_temp.fire_view"
   ]
  },
  {
   "cell_type": "code",
   "execution_count": 0,
   "metadata": {
    "application/vnd.databricks.v1+cell": {
     "cellMetadata": {
      "byteLimit": 2048000,
      "rowLimit": 10000
     },
     "inputWidgets": {},
     "nuid": "bd53f1fe-0eed-4ad4-ac1a-98df591fc380",
     "showTitle": false,
     "title": ""
    }
   },
   "outputs": [
    {
     "output_type": "display_data",
     "data": {
      "text/html": [
       "<style scoped>\n",
       "  .table-result-container {\n",
       "    max-height: 300px;\n",
       "    overflow: auto;\n",
       "  }\n",
       "  table, th, td {\n",
       "    border: 1px solid black;\n",
       "    border-collapse: collapse;\n",
       "  }\n",
       "  th, td {\n",
       "    padding: 5px;\n",
       "  }\n",
       "  th {\n",
       "    text-align: left;\n",
       "  }\n",
       "</style><div class='table-result-container'><table class='table-result'><thead style='background-color: white'><tr><th>col_name</th><th>data_type</th><th>comment</th></tr></thead><tbody><tr><td>Call Number</td><td>int</td><td>null</td></tr><tr><td>Unit ID</td><td>string</td><td>null</td></tr><tr><td>Incident Number</td><td>int</td><td>null</td></tr><tr><td>CallType</td><td>string</td><td>null</td></tr><tr><td>Call Date</td><td>date</td><td>null</td></tr><tr><td>Watch Date</td><td>date</td><td>null</td></tr><tr><td>Call Final Disposition</td><td>string</td><td>null</td></tr><tr><td>Available DtTm</td><td>string</td><td>null</td></tr><tr><td>Address</td><td>string</td><td>null</td></tr><tr><td>City</td><td>string</td><td>null</td></tr><tr><td>Zipcode of Incident</td><td>int</td><td>null</td></tr><tr><td>Battalion</td><td>string</td><td>null</td></tr><tr><td>Station Area</td><td>string</td><td>null</td></tr><tr><td>Box</td><td>string</td><td>null</td></tr><tr><td>OrigPriority</td><td>string</td><td>null</td></tr><tr><td>Priority</td><td>string</td><td>null</td></tr><tr><td>Final Priority</td><td>int</td><td>null</td></tr><tr><td>ALS Unit</td><td>boolean</td><td>null</td></tr><tr><td>Call Type Group</td><td>string</td><td>null</td></tr><tr><td>NumAlarms</td><td>int</td><td>null</td></tr><tr><td>UnitType</td><td>string</td><td>null</td></tr><tr><td>Unit sequence in call dispatch</td><td>int</td><td>null</td></tr><tr><td>Fire Prevention District</td><td>string</td><td>null</td></tr><tr><td>Supervisor District</td><td>string</td><td>null</td></tr><tr><td>Neighborhood</td><td>string</td><td>null</td></tr><tr><td>Location</td><td>string</td><td>null</td></tr><tr><td>RowID</td><td>string</td><td>null</td></tr><tr><td>Delay</td><td>double</td><td>null</td></tr></tbody></table></div>"
      ]
     },
     "metadata": {
      "application/vnd.databricks.v1+output": {
       "addedWidgets": {},
       "aggData": [],
       "aggError": "",
       "aggOverflow": false,
       "aggSchema": [],
       "aggSeriesLimitReached": false,
       "aggType": "",
       "arguments": {},
       "columnCustomDisplayInfos": {},
       "data": [
        [
         "Call Number",
         "int",
         null
        ],
        [
         "Unit ID",
         "string",
         null
        ],
        [
         "Incident Number",
         "int",
         null
        ],
        [
         "CallType",
         "string",
         null
        ],
        [
         "Call Date",
         "date",
         null
        ],
        [
         "Watch Date",
         "date",
         null
        ],
        [
         "Call Final Disposition",
         "string",
         null
        ],
        [
         "Available DtTm",
         "string",
         null
        ],
        [
         "Address",
         "string",
         null
        ],
        [
         "City",
         "string",
         null
        ],
        [
         "Zipcode of Incident",
         "int",
         null
        ],
        [
         "Battalion",
         "string",
         null
        ],
        [
         "Station Area",
         "string",
         null
        ],
        [
         "Box",
         "string",
         null
        ],
        [
         "OrigPriority",
         "string",
         null
        ],
        [
         "Priority",
         "string",
         null
        ],
        [
         "Final Priority",
         "int",
         null
        ],
        [
         "ALS Unit",
         "boolean",
         null
        ],
        [
         "Call Type Group",
         "string",
         null
        ],
        [
         "NumAlarms",
         "int",
         null
        ],
        [
         "UnitType",
         "string",
         null
        ],
        [
         "Unit sequence in call dispatch",
         "int",
         null
        ],
        [
         "Fire Prevention District",
         "string",
         null
        ],
        [
         "Supervisor District",
         "string",
         null
        ],
        [
         "Neighborhood",
         "string",
         null
        ],
        [
         "Location",
         "string",
         null
        ],
        [
         "RowID",
         "string",
         null
        ],
        [
         "Delay",
         "double",
         null
        ]
       ],
       "datasetInfos": [],
       "dbfsResultPath": null,
       "isJsonSchema": true,
       "metadata": {
        "isDbfsCommandResult": false
       },
       "overflow": false,
       "plotOptions": {
        "customPlotOptions": {},
        "displayType": "table",
        "pivotAggregation": null,
        "pivotColumns": null,
        "xColumns": null,
        "yColumns": null
       },
       "removedWidgets": [],
       "schema": [
        {
         "metadata": "{\"comment\":\"name of the column\"}",
         "name": "col_name",
         "type": "\"string\""
        },
        {
         "metadata": "{\"comment\":\"data type of the column\"}",
         "name": "data_type",
         "type": "\"string\""
        },
        {
         "metadata": "{\"comment\":\"comment of the column\"}",
         "name": "comment",
         "type": "\"string\""
        }
       ],
       "type": "table"
      }
     },
     "output_type": "display_data"
    }
   ],
   "source": [
    "%sql\n",
    "desc global_temp.fire_view"
   ]
  },
  {
   "cell_type": "code",
   "execution_count": 0,
   "metadata": {
    "application/vnd.databricks.v1+cell": {
     "cellMetadata": {
      "byteLimit": 2048000,
      "rowLimit": 10000
     },
     "inputWidgets": {},
     "nuid": "72f8887e-c189-4200-b6a1-7082a9d9b84c",
     "showTitle": false,
     "title": ""
    }
   },
   "outputs": [
    {
     "output_type": "display_data",
     "data": {
      "text/html": [
       "<style scoped>\n",
       "  .table-result-container {\n",
       "    max-height: 300px;\n",
       "    overflow: auto;\n",
       "  }\n",
       "  table, th, td {\n",
       "    border: 1px solid black;\n",
       "    border-collapse: collapse;\n",
       "  }\n",
       "  th, td {\n",
       "    padding: 5px;\n",
       "  }\n",
       "  th {\n",
       "    text-align: left;\n",
       "  }\n",
       "</style><div class='table-result-container'><table class='table-result'><thead style='background-color: white'><tr></tr></thead><tbody></tbody></table></div>"
      ]
     },
     "metadata": {
      "application/vnd.databricks.v1+output": {
       "addedWidgets": {},
       "aggData": [],
       "aggError": "",
       "aggOverflow": false,
       "aggSchema": [],
       "aggSeriesLimitReached": false,
       "aggType": "",
       "arguments": {},
       "columnCustomDisplayInfos": {},
       "data": [],
       "datasetInfos": [],
       "dbfsResultPath": null,
       "isJsonSchema": true,
       "metadata": {
        "isDbfsCommandResult": false
       },
       "overflow": false,
       "plotOptions": {
        "customPlotOptions": {},
        "displayType": "table",
        "pivotAggregation": null,
        "pivotColumns": null,
        "xColumns": null,
        "yColumns": null
       },
       "removedWidgets": [],
       "schema": [],
       "type": "table"
      }
     },
     "output_type": "display_data"
    }
   ],
   "source": [
    "%sql\n",
    "create table if not exists demo_db.firecall_table1(CallNumber string,\n",
    "                    UnitID  string,\n",
    "                    IncidentNumber  string,\n",
    "                    CallType  string,                \n",
    "                    CallDate  string,     \n",
    "                    WatchDate  string,\n",
    "                    CallFinalDisposition  string,\n",
    "                    AvailableDtTm  string,\n",
    "                    Address  string,       \n",
    "                    City  string,      \n",
    "                    Zipcode  string,    \n",
    "                    Battalion  string,                 \n",
    "                    StationArea  string,     \n",
    "                    Box  string,        \n",
    "                    OriginalPriority string,\n",
    "                    Priority  string,        \n",
    "                    FinalPriority  string,       \n",
    "                    ALSUnit  string,    \n",
    "                    CallTypeGroup  string,\n",
    "                    NumAlarms  string,\n",
    "                    UnitType  string,\n",
    "                    UnitSequenceInCallDispatch  string,\n",
    "                    FirePreventionDistrict  string,\n",
    "                    SupervisorDistrict  string,\n",
    "                    Neighborhood  string,\n",
    "                    Location  string,\n",
    "                    RowID  string,\n",
    "                    Delay  string) using parquet"
   ]
  },
  {
   "cell_type": "code",
   "execution_count": 0,
   "metadata": {
    "application/vnd.databricks.v1+cell": {
     "cellMetadata": {
      "byteLimit": 2048000,
      "rowLimit": 10000
     },
     "inputWidgets": {},
     "nuid": "5372717d-903a-4bf1-9a34-2ae8b9d57b7f",
     "showTitle": false,
     "title": ""
    }
   },
   "outputs": [
    {
     "output_type": "display_data",
     "data": {
      "text/html": [
       "<style scoped>\n",
       "  .table-result-container {\n",
       "    max-height: 300px;\n",
       "    overflow: auto;\n",
       "  }\n",
       "  table, th, td {\n",
       "    border: 1px solid black;\n",
       "    border-collapse: collapse;\n",
       "  }\n",
       "  th, td {\n",
       "    padding: 5px;\n",
       "  }\n",
       "  th {\n",
       "    text-align: left;\n",
       "  }\n",
       "</style><div class='table-result-container'><table class='table-result'><thead style='background-color: white'><tr></tr></thead><tbody></tbody></table></div>"
      ]
     },
     "metadata": {
      "application/vnd.databricks.v1+output": {
       "addedWidgets": {},
       "aggData": [],
       "aggError": "",
       "aggOverflow": false,
       "aggSchema": [],
       "aggSeriesLimitReached": false,
       "aggType": "",
       "arguments": {},
       "columnCustomDisplayInfos": {},
       "data": [],
       "datasetInfos": [],
       "dbfsResultPath": null,
       "isJsonSchema": true,
       "metadata": {
        "isDbfsCommandResult": false
       },
       "overflow": false,
       "plotOptions": {
        "customPlotOptions": {},
        "displayType": "table",
        "pivotAggregation": null,
        "pivotColumns": null,
        "xColumns": null,
        "yColumns": null
       },
       "removedWidgets": [],
       "schema": [],
       "type": "table"
      }
     },
     "output_type": "display_data"
    }
   ],
   "source": [
    "%sql\n",
    "create table if not exists demo_db.firecall_table1(CallNumber string,\n",
    "                    UnitID  string,\n",
    "                    IncidentNumber  string,\n",
    "                    CallType  string,                \n",
    "                    CallDate  string,     \n",
    "                    WatchDate  string,\n",
    "                    CallFinalDisposition  string,\n",
    "                    AvailableDtTm  string,\n",
    "                    Address  string,       \n",
    "                    City  string,      \n",
    "                    Zipcode  string,    \n",
    "                    Battalion  string,                 \n",
    "                    StationArea  string,     \n",
    "                    Box  string,        \n",
    "                    OriginalPriority string,\n",
    "                    Priority  string,        \n",
    "                    FinalPriority  string,       \n",
    "                    ALSUnit  string,    \n",
    "                    CallTypeGroup  string,\n",
    "                    NumAlarms  string,\n",
    "                    UnitType  string,\n",
    "                    UnitSequenceInCallDispatch  string,\n",
    "                    FirePreventionDistrict  string,\n",
    "                    SupervisorDistrict  string,\n",
    "                    Neighborhood  string,\n",
    "                    Location  string,\n",
    "                    RowID  string,\n",
    "                    Delay  string) using parquet"
   ]
  },
  {
   "cell_type": "code",
   "execution_count": 0,
   "metadata": {
    "application/vnd.databricks.v1+cell": {
     "cellMetadata": {
      "byteLimit": 2048000,
      "rowLimit": 10000
     },
     "inputWidgets": {},
     "nuid": "d7c10a03-9322-440a-9eb9-381cee375650",
     "showTitle": false,
     "title": ""
    }
   },
   "outputs": [],
   "source": []
  },
  {
   "cell_type": "markdown",
   "metadata": {
    "application/vnd.databricks.v1+cell": {
     "cellMetadata": {
      "byteLimit": 2048000,
      "rowLimit": 10000
     },
     "inputWidgets": {},
     "nuid": "6d357d40-10c3-4359-a396-71c65f0c23cc",
     "showTitle": false,
     "title": ""
    }
   },
   "source": [
    "Open a new browser tab and go to https://spark.apache.org/\n",
    "\n",
    "Check for latest documentation.\n",
    "Come to the programming guide and choose the SQL, Dataframe documentation.\n",
    "Here we are.\n",
    "You can directly jump to the SQL Reference.\n",
    "Then go to SQL Syntax.\n",
    "\n",
    "\n",
    "\n",
    "Let me jump to the Data Definition statements.\n",
    "You can see create, alter, drop and truncate statements here.\n",
    "You will only see insert statements in the DML statements\n",
    "So we do not have Delete and Update DML statements in Spark SQL.\n",
    "\n"
   ]
  },
  {
   "cell_type": "markdown",
   "metadata": {
    "application/vnd.databricks.v1+cell": {
     "cellMetadata": {
      "byteLimit": 2048000,
      "rowLimit": 10000
     },
     "inputWidgets": {},
     "nuid": "cd9ee4a3-b8cf-4fe7-9304-23319fadb10d",
     "showTitle": false,
     "title": ""
    }
   },
   "source": [
    "important 19.Common problem with Databricks Community \n",
    "Every Spark Table or the Spark Dataframe lives in three layers. The first place is the Metadata Layer. This layer stores Table or Dataframe definition and the schema information. The second most critical layer is the physical storage layer. This is where Spark data lives in a data file. Correct. The middle layer is the compute layer. The compute layers runs your Spark SQL engine. The same Spark SQL engine powers your Spark SQL and Dataframe API. So when you execute a Spark SQL query, or you run a Dataframe code, in both cases, the Spark SQL engine will refer to the metadata store. The metadata will tell the following things. Where is the data for this table and What is the schema of the data and table If the Spark SQL engine doesn't find metadata data for the table, it throws an analysis exception. If metadata is there, the SQL engine will read the data from the data file and present it to you like a table or dataframe. These three layers of Spark are supercritical. You will face problems and see errors when any of these three layers are missing or broken. Remember that. This lesson is built around your understanding of these three layers. Metadata Layer Storage Layer and Compute Layer."
   ]
  },
  {
   "cell_type": "markdown",
   "metadata": {
    "application/vnd.databricks.v1+cell": {
     "cellMetadata": {
      "byteLimit": 2048000,
      "rowLimit": 10000
     },
     "inputWidgets": {},
     "nuid": "4f2ff55b-be32-4eeb-9062-df6606ee7b7d",
     "showTitle": false,
     "title": ""
    }
   },
   "source": [
    "\n",
    "Databricks community edition will terminate your cluster after 2 hours of idle time. Once your cluster is terminated, Databricks will clean up the following things. \n",
    "Cluster VM and Spark Metadata Store \n",
    "So your compute and metadata layers are permanently gone. Databricks will clean up the cluster VM so you cannot restart it again. Databricks will also clean up the Spark Metadata store. So you will lose your databases and tables. But you can create a new cluster for your learning purposes. Let me show you. Delete the old terminated cluster. There is no point in keeping it here because we cannot restart it. So let me delete it. Now I can create a new cluster. Let me do that. Give a name to your cluster and create it. You can reuse the same old name because I deleted the older cluster. Creating a cluster is a time-consuming activity. It might take 5-10 minutes. So let's wait for it.\n",
    "\n",
    "My cluster is now running. Let me check if my database and table are there. Click the data menu, and you can see the database and tables. I have a default database only. I created the demo_db database yesterday, but I do not see that now. Why? Databricks cleaned my Spark metadata store because my cluster was idle for more than 2 hours. So I lost my database and table definition. \n",
    "This problem does not exist for the full licensed version of the Databricks Cloud. So you should not be worried about losing your databases and tables when using Databricks licensed version. The community edition is free, and we have this limitation with the community edition only.\n",
    "\n",
    "One more thing. The community edition will clean up the VM and the metadata store. But it doesn't clean up the directories and files. So you do not lose your storage layer. Your data files remain in place even if your compute and metadata layer is gone. Directories are created in an external distributed storage, and files are stored in these directories on external storage. The external storage is not part of the cluster. So even if your cluster is terminated, VM is cleaned, metadata is flushed, but your data files still remain in place. I will show you that in a minute. But before that, I want to get my database and tables back so I can start analyzing the data. Let me do that. Go to your workspace and check the list of notebooks. I created a spark-dataframe-demo notebook to show you how to create a dataframe. The notebook will open in a new browser tab. I will come to that notebook in a minute. We also have a spark-table-demo notebook. We created a Spark database and a table in this notebook. Let me open it. Now go to the spark-dataframe-demo notebook. Attach your cluster to the notebook. Now I can run this notebook. Click the run all button at the top. The run-all command will execute the entire notebook. So running this notebook will create a dataframe and a global temporary view.\n",
    "\n",
    "\n",
    "We will use this view to load data into our table. Great! Done. Now we will go to the spark-table-demo notebook. This notebook creates a table and loads data into the table. Let me attach the cluster and try the run-all command on this notebook. \n",
    "\n",
    "\n",
    "Oops! Error. Let's see. Analysis exception - Can not create the managed table. \n",
    "\n",
    "The associated location already exists. \n",
    "Why do we see this error?  This notebook worked fine yesterday. Why is it giving an error today? Because Databricks didn't clean the directory and data files. My storage layer is still there. So my data directory is not cleaned. That's what I was explaining earlier. So let me summarize it once again. Databricks community edition will terminate your cluster if you leave it idle for more than 2 hours. On termination, Databricks will clean the following things. Cluster VM means compute layer Spark Metadata that means metadata layer But they do not clean the storage layer. So your data directories and the data files will remain there. As a result, You will see an exception when you try creating your table again. \n",
    "\n",
    "Because the directory and file were created yesterday, and it already exists. How to fix this problem? We can manually clean the directory and the data file. Let me do that. Add a new cell at the top of the notebook and type the filesystem rm command to clean the directory. \n",
    "\n",
    " %fs rm -r \n",
    " command to delete a directory and all its content. But which directory do you want to delete? Look at the error message and copy the directory location from there. So we want to delete demo_db.db directory. \n",
    " I also recommend adding a drop table and drop database command at the top. So let me add another cell at the top of the notebook. I will run two DDL  \n",
    " drop table if exists demo_db.fire_service_calls_tbl;\n",
    " drop view if exists demo_db;"
   ]
  },
  {
   "cell_type": "markdown",
   "metadata": {
    "application/vnd.databricks.v1+cell": {
     "cellMetadata": {
      "byteLimit": 2048000,
      "rowLimit": 10000
     },
     "inputWidgets": {},
     "nuid": "47841b77-1494-4261-bb1e-3f0a7d35bead",
     "showTitle": false,
     "title": ""
    }
   },
   "source": [
    "https://oracle-base.com/articles/23c/group-by-and-having-clause-using-column-alias-or-column-position-23c "
   ]
  },
  {
   "cell_type": "markdown",
   "metadata": {
    "application/vnd.databricks.v1+cell": {
     "cellMetadata": {
      "byteLimit": 2048000,
      "rowLimit": 10000
     },
     "inputWidgets": {},
     "nuid": "91d9a7f4-3a32-4d2c-9d7a-ba18105e8f9a",
     "showTitle": false,
     "title": ""
    }
   },
   "source": [
    "to create global_temp.fire_view execute 03 note book"
   ]
  },
  {
   "cell_type": "code",
   "execution_count": 0,
   "metadata": {
    "application/vnd.databricks.v1+cell": {
     "cellMetadata": {
      "byteLimit": 2048000,
      "rowLimit": 10000
     },
     "inputWidgets": {},
     "nuid": "1542e594-799a-4470-8b28-a4e3dafa064d",
     "showTitle": false,
     "title": ""
    }
   },
   "outputs": [
    {
     "output_type": "display_data",
     "data": {
      "text/html": [
       "<style scoped>\n",
       "  .table-result-container {\n",
       "    max-height: 300px;\n",
       "    overflow: auto;\n",
       "  }\n",
       "  table, th, td {\n",
       "    border: 1px solid black;\n",
       "    border-collapse: collapse;\n",
       "  }\n",
       "  th, td {\n",
       "    padding: 5px;\n",
       "  }\n",
       "  th {\n",
       "    text-align: left;\n",
       "  }\n",
       "</style><div class='table-result-container'><table class='table-result'><thead style='background-color: white'><tr></tr></thead><tbody></tbody></table></div>"
      ]
     },
     "metadata": {
      "application/vnd.databricks.v1+output": {
       "addedWidgets": {},
       "aggData": [],
       "aggError": "",
       "aggOverflow": false,
       "aggSchema": [],
       "aggSeriesLimitReached": false,
       "aggType": "",
       "arguments": {},
       "columnCustomDisplayInfos": {},
       "data": [],
       "datasetInfos": [],
       "dbfsResultPath": null,
       "isJsonSchema": true,
       "metadata": {
        "isDbfsCommandResult": false
       },
       "overflow": false,
       "plotOptions": {
        "customPlotOptions": {},
        "displayType": "table",
        "pivotAggregation": null,
        "pivotColumns": null,
        "xColumns": null,
        "yColumns": null
       },
       "removedWidgets": [],
       "schema": [],
       "type": "table"
      }
     },
     "output_type": "display_data"
    }
   ],
   "source": [
    "%sql\n",
    "insert into demo_db.firecall_table1 select * from global_temp.fire_view"
   ]
  },
  {
   "cell_type": "code",
   "execution_count": 0,
   "metadata": {
    "application/vnd.databricks.v1+cell": {
     "cellMetadata": {
      "byteLimit": 2048000,
      "rowLimit": 10000
     },
     "inputWidgets": {},
     "nuid": "d4b9e427-8b64-4484-b972-95b93d0c0433",
     "showTitle": false,
     "title": ""
    }
   },
   "outputs": [],
   "source": []
  }
 ],
 "metadata": {
  "application/vnd.databricks.v1+notebook": {
   "dashboards": [],
   "language": "python",
   "notebookMetadata": {
    "mostRecentlyExecutedCommandWithImplicitDF": {
     "commandId": 3759674137587311,
     "dataframes": [
      "_sqldf"
     ]
    },
    "pythonIndentUnit": 4
   },
   "notebookName": "004 creating spark tables",
   "widgets": {}
  }
 },
 "nbformat": 4,
 "nbformat_minor": 0
}
